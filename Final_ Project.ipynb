{
 "cells": [
  {
   "cell_type": "code",
   "execution_count": null,
   "metadata": {
    "id": "gTOm27nN1-n9"
   },
   "outputs": [],
   "source": [
    "import pandas as pd\n"
   ]
  },
  {
   "cell_type": "code",
   "execution_count": null,
   "metadata": {
    "colab": {
     "base_uri": "https://localhost:8080/"
    },
    "id": "j4svpm4D_lgQ",
    "outputId": "9438bdc3-32e9-45a1-88cf-2285d544d4f6"
   },
   "outputs": [],
   "source": [
    "from google.colab import drive\n",
    "drive.mount('/content/drive')"
   ]
  },
  {
   "cell_type": "code",
   "execution_count": null,
   "metadata": {
    "id": "R8F5hegL3KhJ"
   },
   "outputs": [],
   "source": [
    "emotion_df=pd.read_csv('/content/text.csv')"
   ]
  },
  {
   "cell_type": "code",
   "execution_count": null,
   "metadata": {
    "colab": {
     "base_uri": "https://localhost:8080/",
     "height": 206
    },
    "id": "G5Sw7H0B3C8q",
    "outputId": "ee736460-1bc8-4b4b-abba-2bb0b72e819e"
   },
   "outputs": [],
   "source": [
    "emotion_df.head()"
   ]
  },
  {
   "cell_type": "code",
   "execution_count": null,
   "metadata": {
    "id": "oCWFqzeM3C_g"
   },
   "outputs": [],
   "source": [
    "violence_df=pd.read_csv('/content/Train.csv')"
   ]
  },
  {
   "cell_type": "code",
   "execution_count": null,
   "metadata": {
    "colab": {
     "base_uri": "https://localhost:8080/",
     "height": 223
    },
    "id": "S2ugwCaM3DCV",
    "outputId": "bfeb1fe9-1465-4c80-b58c-30a6c6a8d111"
   },
   "outputs": [],
   "source": [
    "violence_df.head()"
   ]
  },
  {
   "cell_type": "code",
   "execution_count": null,
   "metadata": {
    "id": "pJhn-2qv3DEx"
   },
   "outputs": [],
   "source": [
    "hate_df=pd.read_csv('/content/labeled_data.csv')"
   ]
  },
  {
   "cell_type": "code",
   "execution_count": null,
   "metadata": {
    "colab": {
     "base_uri": "https://localhost:8080/",
     "height": 486
    },
    "id": "sEzofQ4V3DHj",
    "outputId": "9dbe0d54-238a-4d71-fcbe-dde009586856"
   },
   "outputs": [],
   "source": [
    "hate_df.head()"
   ]
  },
  {
   "cell_type": "code",
   "execution_count": null,
   "metadata": {
    "id": "Rr526hR63DKL"
   },
   "outputs": [],
   "source": [
    "#data preprocessing\n",
    "\n",
    "emotion_df.drop(columns=['Unnamed: 0'],inplace=True)\n",
    "violence_df.drop(columns=['Tweet_ID'] ,inplace=True)\n",
    "hate_df=hate_df[['tweet', 'class']]"
   ]
  },
  {
   "cell_type": "code",
   "execution_count": null,
   "metadata": {
    "colab": {
     "base_uri": "https://localhost:8080/",
     "height": 206
    },
    "id": "tkJhkzlY3DM5",
    "outputId": "48bdb75b-3acc-41fd-c890-09a3b7c52098"
   },
   "outputs": [],
   "source": [
    "emotion_df.head()\n"
   ]
  },
  {
   "cell_type": "code",
   "execution_count": null,
   "metadata": {
    "colab": {
     "base_uri": "https://localhost:8080/",
     "height": 206
    },
    "id": "mw_HUZTz3DPh",
    "outputId": "6b632df9-d6ce-44b3-d334-cf5c539b0b0d"
   },
   "outputs": [],
   "source": [
    "violence_df.head()\n"
   ]
  },
  {
   "cell_type": "code",
   "execution_count": null,
   "metadata": {
    "colab": {
     "base_uri": "https://localhost:8080/",
     "height": 206
    },
    "id": "9vLRYj613DSL",
    "outputId": "da63a055-21b6-4cbf-dde3-8e59622eb7a1"
   },
   "outputs": [],
   "source": [
    "hate_df.head()"
   ]
  },
  {
   "cell_type": "code",
   "execution_count": null,
   "metadata": {
    "colab": {
     "base_uri": "https://localhost:8080/"
    },
    "id": "ktGu-OZT3DU0",
    "outputId": "a3c20eb7-5051-4ccd-8ec7-bcf1f2cb7385"
   },
   "outputs": [],
   "source": [
    "emotion_df.columns, violence_df.columns, hate_df.columns"
   ]
  },
  {
   "cell_type": "code",
   "execution_count": null,
   "metadata": {
    "id": "yjjNso3g3DXe"
   },
   "outputs": [],
   "source": [
    "#renaming columns\n",
    "violence_df.rename(columns={'tweet':'text', 'type':'label'},inplace=True)\n",
    "hate_df.rename(columns={'tweet':'text', 'class':'label'},inplace=True)"
   ]
  },
  {
   "cell_type": "code",
   "execution_count": null,
   "metadata": {
    "colab": {
     "base_uri": "https://localhost:8080/"
    },
    "id": "U4aDr02_3DaK",
    "outputId": "f2f52eee-1ac8-4f7b-e727-bf348846d082"
   },
   "outputs": [],
   "source": [
    "emotion_df.columns, violence_df.columns, hate_df.columns"
   ]
  },
  {
   "cell_type": "code",
   "execution_count": null,
   "metadata": {
    "colab": {
     "base_uri": "https://localhost:8080/"
    },
    "id": "a0HCNTtd3DdB",
    "outputId": "6c5acc79-8d2e-4685-8110-9757d00d8459"
   },
   "outputs": [],
   "source": [
    "# null values\n",
    "emotion_df.isnull().sum() , violence_df.isnull().sum(), hate_df.isnull().sum()"
   ]
  },
  {
   "cell_type": "code",
   "execution_count": null,
   "metadata": {
    "colab": {
     "base_uri": "https://localhost:8080/"
    },
    "id": "1VxN5iU03Dfl",
    "outputId": "1b569762-b8e1-4f6e-abb2-28db447470c8"
   },
   "outputs": [],
   "source": [
    "emotion_df.shape, violence_df.shape, hate_df.shape"
   ]
  },
  {
   "cell_type": "code",
   "execution_count": null,
   "metadata": {
    "colab": {
     "base_uri": "https://localhost:8080/",
     "height": 303
    },
    "id": "4q0cvOUA3DiD",
    "outputId": "d727c8be-e48f-4b17-8bbf-d1f206410980"
   },
   "outputs": [],
   "source": [
    "#extarcting 12000 from each dataset\n",
    "emotion_df['label'].value_counts()"
   ]
  },
  {
   "cell_type": "code",
   "execution_count": null,
   "metadata": {
    "id": "oproD5L_3Dkz"
   },
   "outputs": [],
   "source": [
    "e_df=pd.DataFrame()\n",
    "for i in range(6):\n",
    "  subset= emotion_df[emotion_df['label']==i].sample(n=2000, random_state=42 )\n",
    "  e_df=pd.concat([e_df, subset])"
   ]
  },
  {
   "cell_type": "code",
   "execution_count": null,
   "metadata": {
    "colab": {
     "base_uri": "https://localhost:8080/"
    },
    "id": "GaIJFs-y3DpM",
    "outputId": "26ed349c-a364-4037-9627-c5acf577df61"
   },
   "outputs": [],
   "source": [
    "e_df.shape"
   ]
  },
  {
   "cell_type": "code",
   "execution_count": null,
   "metadata": {
    "id": "6-GToYxj3Dsq"
   },
   "outputs": [],
   "source": [
    "emotion_df=e_df.copy()"
   ]
  },
  {
   "cell_type": "code",
   "execution_count": null,
   "metadata": {
    "colab": {
     "base_uri": "https://localhost:8080/",
     "height": 303
    },
    "id": "EC9WMA_N7eln",
    "outputId": "6f8b1034-9db9-49ea-9ee7-67a24c48118f"
   },
   "outputs": [],
   "source": [
    "emotion_df['label'].value_counts()"
   ]
  },
  {
   "cell_type": "code",
   "execution_count": null,
   "metadata": {
    "colab": {
     "base_uri": "https://localhost:8080/",
     "height": 272
    },
    "id": "KB_vBbY57et8",
    "outputId": "9144952f-304e-4fb8-9df0-24bb93c6ac59"
   },
   "outputs": [],
   "source": [
    "violence_df['label'].value_counts()"
   ]
  },
  {
   "cell_type": "code",
   "execution_count": null,
   "metadata": {
    "id": "-7etlzxa7exY"
   },
   "outputs": [],
   "source": [
    "sexual_vioelnce=violence_df[violence_df['label']=='sexual_violence'].sample(n=4998, random_state=42)\n",
    "violence_df=violence_df[violence_df['label']!='sexual_violence']"
   ]
  },
  {
   "cell_type": "code",
   "execution_count": null,
   "metadata": {
    "colab": {
     "base_uri": "https://localhost:8080/"
    },
    "id": "_UpPgEed7e1C",
    "outputId": "e0393fbf-c6ee-40f6-e0f6-17c8c9c6d432"
   },
   "outputs": [],
   "source": [
    "violence_df.shape"
   ]
  },
  {
   "cell_type": "code",
   "execution_count": null,
   "metadata": {
    "id": "BaX12HjZ7e4K"
   },
   "outputs": [],
   "source": [
    "violence_df=pd.concat([violence_df, sexual_vioelnce], axis=0)"
   ]
  },
  {
   "cell_type": "code",
   "execution_count": null,
   "metadata": {
    "colab": {
     "base_uri": "https://localhost:8080/"
    },
    "id": "vTFktDNd7e7S",
    "outputId": "240ad23f-79a0-4443-96b3-c2a6ea7a51fa"
   },
   "outputs": [],
   "source": [
    "violence_df.shape"
   ]
  },
  {
   "cell_type": "code",
   "execution_count": null,
   "metadata": {
    "colab": {
     "base_uri": "https://localhost:8080/",
     "height": 209
    },
    "id": "rfNTHiUb7e-P",
    "outputId": "a169e844-fda3-46bd-dcc1-f510873d33ca"
   },
   "outputs": [],
   "source": [
    "hate_df['label'].value_counts()\n"
   ]
  },
  {
   "cell_type": "code",
   "execution_count": null,
   "metadata": {
    "id": "b0jo8quS7fBM"
   },
   "outputs": [],
   "source": [
    "offensive_speech= hate_df[hate_df['label']== 1].sample(n=6407, random_state=42)\n",
    "hate_df= hate_df[hate_df['label']!=1]"
   ]
  },
  {
   "cell_type": "code",
   "execution_count": null,
   "metadata": {
    "colab": {
     "base_uri": "https://localhost:8080/"
    },
    "id": "FEEbTRpa7fEJ",
    "outputId": "c2affdaa-2a02-46db-9b05-0d22cd8aec81"
   },
   "outputs": [],
   "source": [
    "hate_df.shape"
   ]
  },
  {
   "cell_type": "code",
   "execution_count": null,
   "metadata": {
    "id": "Tbc9xZPC7fG_"
   },
   "outputs": [],
   "source": [
    "hate_df=pd.concat([offensive_speech, hate_df], axis=0)"
   ]
  },
  {
   "cell_type": "code",
   "execution_count": null,
   "metadata": {
    "colab": {
     "base_uri": "https://localhost:8080/"
    },
    "id": "ZabdzEfo7fKW",
    "outputId": "720678ab-58c9-4856-8d7b-c26d7a7570fc"
   },
   "outputs": [],
   "source": [
    "hate_df.shape"
   ]
  },
  {
   "cell_type": "code",
   "execution_count": null,
   "metadata": {
    "colab": {
     "base_uri": "https://localhost:8080/"
    },
    "id": "TvzH1ayK7fNF",
    "outputId": "b61c6fee-e475-4210-85cc-e02377790898"
   },
   "outputs": [],
   "source": [
    "emotion_df.shape, violence_df.shape, hate_df.shape"
   ]
  },
  {
   "cell_type": "code",
   "execution_count": null,
   "metadata": {
    "id": "zb2ApYvR7fQD"
   },
   "outputs": [],
   "source": [
    "#reset indexes\n",
    "emotion_df.reset_index(drop=True, inplace=True)\n",
    "violence_df.reset_index(drop=True, inplace=True)\n",
    "hate_df.reset_index(drop=True, inplace=True)\n"
   ]
  },
  {
   "cell_type": "code",
   "execution_count": null,
   "metadata": {
    "colab": {
     "base_uri": "https://localhost:8080/",
     "height": 206
    },
    "id": "iyMriELU7fS5",
    "outputId": "42c299ef-05b6-4db8-dfe1-cd0e4456e8b8"
   },
   "outputs": [],
   "source": [
    "emotion_df.head()"
   ]
  },
  {
   "cell_type": "markdown",
   "metadata": {
    "id": "UNiA4Lgt97mH"
   },
   "source": [
    "//label encoding\n"
   ]
  },
  {
   "cell_type": "code",
   "execution_count": null,
   "metadata": {
    "id": "ex2acOYa7fVn"
   },
   "outputs": [],
   "source": [
    "from sklearn.preprocessing import LabelEncoder\n",
    "import warnings\n",
    "warnings.filterwarnings('ignore')"
   ]
  },
  {
   "cell_type": "code",
   "execution_count": null,
   "metadata": {
    "colab": {
     "base_uri": "https://localhost:8080/",
     "height": 206
    },
    "id": "GW7RgVYI7fYc",
    "outputId": "293a27fb-f225-4373-a078-6f8357c8cd99"
   },
   "outputs": [],
   "source": [
    "label_encoder=LabelEncoder()\n",
    "violence_df['label']=label_encoder.fit_transform(violence_df['label'])\n",
    "violence_df.head()"
   ]
  },
  {
   "cell_type": "code",
   "execution_count": null,
   "metadata": {
    "colab": {
     "base_uri": "https://localhost:8080/"
    },
    "id": "H7F4Y2Ls7fa4",
    "outputId": "d7d1d512-55cf-4617-c517-604a9af119c0"
   },
   "outputs": [],
   "source": [
    "violence_df['label'].unique()"
   ]
  },
  {
   "cell_type": "markdown",
   "metadata": {
    "id": "Icvh-eg3-1Km"
   },
   "source": [
    "//stopwords removal\n"
   ]
  },
  {
   "cell_type": "code",
   "execution_count": null,
   "metadata": {
    "id": "_is5R9UE7fdx"
   },
   "outputs": [],
   "source": [
    "import nltk\n",
    "from nltk.corpus import stopwords\n"
   ]
  },
  {
   "cell_type": "code",
   "execution_count": null,
   "metadata": {
    "colab": {
     "base_uri": "https://localhost:8080/"
    },
    "id": "SODW1YqD7fgU",
    "outputId": "bc5dd382-433a-448a-9801-713a0aeb4099"
   },
   "outputs": [],
   "source": [
    "nltk.download('stopwords')"
   ]
  },
  {
   "cell_type": "code",
   "execution_count": null,
   "metadata": {
    "colab": {
     "base_uri": "https://localhost:8080/"
    },
    "id": "9zcrOyPc7fiz",
    "outputId": "18f0d473-cba3-4378-d9c9-fe1417dbfdbf"
   },
   "outputs": [],
   "source": [
    "nltk.download('punkt')#puntuation"
   ]
  },
  {
   "cell_type": "code",
   "execution_count": null,
   "metadata": {
    "id": "sUVwUhOy7fmO"
   },
   "outputs": [],
   "source": [
    "stop_words=set(stopwords.words('english'))"
   ]
  },
  {
   "cell_type": "code",
   "execution_count": null,
   "metadata": {
    "colab": {
     "base_uri": "https://localhost:8080/"
    },
    "id": "d65CcJYQ_T9c",
    "outputId": "5f035453-6428-4136-a54a-447154794b1c"
   },
   "outputs": [],
   "source": [
    "len(stop_words)"
   ]
  },
  {
   "cell_type": "code",
   "execution_count": null,
   "metadata": {
    "colab": {
     "base_uri": "https://localhost:8080/"
    },
    "id": "LSSy63Y0AZ9C",
    "outputId": "d1eda439-289b-45b8-bd1c-7e5a82c1e501"
   },
   "outputs": [],
   "source": [
    "nltk.download('punkt_tab')"
   ]
  },
  {
   "cell_type": "code",
   "execution_count": null,
   "metadata": {
    "id": "s760dSiq_UAi"
   },
   "outputs": [],
   "source": [
    "def remove_stopwords(text):\n",
    "  all_words=nltk.word_tokenize(text)\n",
    "  filtered_words=[word for word in all_words if word.lower() not in stop_words]\n",
    "  return ' '.join(filtered_words)\n",
    "\n",
    "emotion_df['text']=emotion_df['text'].apply(remove_stopwords)\n",
    "violence_df['text']=violence_df['text'].apply(remove_stopwords)\n",
    "hate_df['text']=hate_df['text'].apply(remove_stopwords)"
   ]
  },
  {
   "cell_type": "code",
   "execution_count": null,
   "metadata": {
    "id": "tONl50hK_UDX"
   },
   "outputs": [],
   "source": []
  },
  {
   "cell_type": "markdown",
   "metadata": {
    "id": "gFVoVI0oCm8V"
   },
   "source": [
    "//tokenization & padding\n",
    "\n",
    "\n"
   ]
  },
  {
   "cell_type": "code",
   "execution_count": null,
   "metadata": {
    "id": "IScQVDd5_UGP"
   },
   "outputs": [],
   "source": [
    "from tensorflow.keras.preprocessing.text import Tokenizer\n",
    "from tensorflow.keras.preprocessing.sequence import pad_sequences\n",
    "from tensorflow.keras.models import Sequential\n",
    "from tensorflow.keras.layers import Embedding, LSTM, Dense"
   ]
  },
  {
   "cell_type": "code",
   "execution_count": null,
   "metadata": {
    "id": "TDJqtu5S_UI2"
   },
   "outputs": [],
   "source": [
    "tokenizer=Tokenizer()\n",
    "tokenizer.fit_on_texts(pd.concat([emotion_df['text'], violence_df['text'], hate_df['text']]))"
   ]
  },
  {
   "cell_type": "code",
   "execution_count": null,
   "metadata": {
    "id": "4bpGM-HK_ULv"
   },
   "outputs": [],
   "source": [
    "emotion_sequences=tokenizer.texts_to_sequences(emotion_df['text'])\n",
    "violence_sequences=tokenizer.texts_to_sequences(violence_df['text'])\n",
    "hate_sequences=tokenizer.texts_to_sequences(hate_df['text'])"
   ]
  },
  {
   "cell_type": "code",
   "execution_count": null,
   "metadata": {
    "colab": {
     "base_uri": "https://localhost:8080/",
     "height": 53
    },
    "id": "gLjFjfDz_UOf",
    "outputId": "e5c6cbc1-682d-4335-ea88-78ea4db33636"
   },
   "outputs": [],
   "source": [
    "emotion_df['text'].iloc[2]"
   ]
  },
  {
   "cell_type": "code",
   "execution_count": null,
   "metadata": {
    "colab": {
     "base_uri": "https://localhost:8080/"
    },
    "id": "YeXOsNci_URu",
    "outputId": "c569b1b7-3cac-4d6e-ee75-7a498ebd519e"
   },
   "outputs": [],
   "source": [
    "emotion_sequences[3:6]"
   ]
  },
  {
   "cell_type": "code",
   "execution_count": null,
   "metadata": {
    "id": "Oo7eViFh_UUz"
   },
   "outputs": [],
   "source": [
    "max_length=50\n",
    "emotion_padded = pad_sequences(emotion_sequences, maxlen=max_length, padding='post')\n",
    "violence_padded = pad_sequences(violence_sequences, maxlen=max_length, padding='post')\n",
    "hate_padded = pad_sequences(hate_sequences, maxlen=max_length, padding='post')"
   ]
  },
  {
   "cell_type": "code",
   "execution_count": null,
   "metadata": {
    "id": "xw8E9xeBxc1D"
   },
   "outputs": [],
   "source": [
    "import numpy as np\n"
   ]
  },
  {
   "cell_type": "code",
   "execution_count": null,
   "metadata": {
    "id": "7ghkicEHwvM9"
   },
   "outputs": [],
   "source": [
    "# //generating labels in numpy array format\n",
    "emotion_labels=np.array(emotion_df['label'])\n",
    "violence_labels=np.array(violence_df['label'])\n",
    "hate_labels=np.array(hate_df['label'])"
   ]
  },
  {
   "cell_type": "markdown",
   "metadata": {
    "id": "df-AVbIUxljU"
   },
   "source": [
    "//MODEL DEFINITION"
   ]
  },
  {
   "cell_type": "code",
   "execution_count": null,
   "metadata": {
    "id": "ZgZwPMvdwvcY"
   },
   "outputs": [],
   "source": [
    "emotion_input=emotion_padded\n",
    "violence_input=violence_padded\n",
    "hate_input=hate_padded"
   ]
  },
  {
   "cell_type": "code",
   "execution_count": null,
   "metadata": {
    "id": "t76JZqJrwvfw"
   },
   "outputs": [],
   "source": [
    "from tensorflow import keras"
   ]
  },
  {
   "cell_type": "code",
   "execution_count": null,
   "metadata": {
    "id": "CdYyYYPAwvi1"
   },
   "outputs": [],
   "source": [
    "##definig multiple input layer\n",
    "emotion_input_layer=keras.layers.Input(shape=(max_length,),name='emotion_input')\n",
    "violence_input_layer=keras.layers.Input(shape=(max_length,),name='violence_input')\n",
    "hate_input_layer=keras.layers.Input(shape=(max_length,),name='hate_input')"
   ]
  },
  {
   "cell_type": "code",
   "execution_count": null,
   "metadata": {
    "id": "Ol0LCOq1wvlt"
   },
   "outputs": [],
   "source": [
    "##use shared embedding layer\n",
    "embedding_layer=keras.layers.Embedding(input_dim=len(tokenizer.word_index)+1, output_dim=128)"
   ]
  },
  {
   "cell_type": "code",
   "execution_count": null,
   "metadata": {
    "id": "pskL_d_dwvop"
   },
   "outputs": [],
   "source": [
    "#apply embedding layer to each input\n",
    "emotiom_embedding_layer=embedding_layer(emotion_input_layer)\n",
    "violence_embedding_layer=embedding_layer(violence_input_layer)\n",
    "hate_embedding_layer=embedding_layer(hate_input_layer)\n",
    "\n"
   ]
  },
  {
   "cell_type": "code",
   "execution_count": null,
   "metadata": {
    "id": "svZ6mmAiwvri"
   },
   "outputs": [],
   "source": [
    "#shared lstm layer\n",
    "shared_lstm=keras.layers.LSTM(64,return_sequences=True)"
   ]
  },
  {
   "cell_type": "code",
   "execution_count": null,
   "metadata": {
    "id": "30ooq7oqwvui"
   },
   "outputs": [],
   "source": [
    "emotion_lstm=shared_lstm(emotiom_embedding_layer)\n",
    "violence_lstm=shared_lstm(violence_embedding_layer)\n",
    "hate_lstm=shared_lstm(hate_embedding_layer)"
   ]
  },
  {
   "cell_type": "code",
   "execution_count": null,
   "metadata": {
    "id": "F7VutZd6wvxe"
   },
   "outputs": [],
   "source": [
    "#shared global average pooling layyer and dropout layer\n",
    "shared_pooling= keras.layers.GlobalAveragePooling1D()\n",
    "shared_dropout=keras.layers.Dropout(0.5)"
   ]
  },
  {
   "cell_type": "code",
   "execution_count": null,
   "metadata": {
    "id": "slP7Awt5wv0Z"
   },
   "outputs": [],
   "source": [
    "emotion_lstm=shared_pooling(emotion_lstm)\n",
    "violence_lstm=shared_pooling(violence_lstm)\n",
    "hate_lstm=shared_pooling(hate_lstm)"
   ]
  },
  {
   "cell_type": "code",
   "execution_count": null,
   "metadata": {
    "id": "_yqFTif1wv3T"
   },
   "outputs": [],
   "source": [
    "emotion_features=shared_dropout(emotion_lstm)\n",
    "violence_features=shared_dropout(violence_lstm)\n",
    "hate_features=shared_dropout(hate_lstm)"
   ]
  },
  {
   "cell_type": "code",
   "execution_count": null,
   "metadata": {
    "id": "FqrumfO6wv6A"
   },
   "outputs": [],
   "source": [
    "#output layers\n",
    "emotion_output=keras.layers.Dense(6, activation='softmax', name='emotion_output')(emotion_features)\n",
    "violence_output=keras.layers.Dense(5, activation='softmax', name='violence_output')(violence_features)\n",
    "hate_output=keras.layers.Dense(3, activation='softmax', name='hate_output')(hate_features)"
   ]
  },
  {
   "cell_type": "code",
   "execution_count": null,
   "metadata": {
    "colab": {
     "base_uri": "https://localhost:8080/",
     "height": 687
    },
    "id": "p8YldSJuwv8n",
    "outputId": "13da7bab-d07d-4292-efa7-a8895c4728d9"
   },
   "outputs": [],
   "source": [
    "#compile the model with multiple inputs and outputs\n",
    "model=keras.Model(inputs=[emotion_input_layer, violence_input_layer, hate_input_layer], outputs=[emotion_output, violence_output, hate_output])\n",
    "model.compile(optimizer='adam', loss={'emotion_output': 'sparse_categorical_crossentropy', 'violence_output':'sparse_categorical_crossentropy','hate_output':'sparse_categorical_crossentropy'}, metrics={'emotion_output':'accuracy', 'violence_output':'accuracy', 'hate_output':'accuracy'})\n",
    "model.summary()"
   ]
  },
  {
   "cell_type": "code",
   "execution_count": null,
   "metadata": {
    "colab": {
     "base_uri": "https://localhost:8080/"
    },
    "id": "Qsn7sp0Ywv_T",
    "outputId": "025fbbf5-aea9-4241-8fad-d96fede20568"
   },
   "outputs": [],
   "source": [
    "#trainig model\n",
    "model.fit(x={'emotion_input': emotion_input,\n",
    "             'violence_input': violence_input,\n",
    "             'hate_input': hate_input},\n",
    "          y={'emotion_output': emotion_labels,\n",
    "             'violence_output': violence_labels,\n",
    "             'hate_output': hate_labels},\n",
    "          epochs=10,\n",
    "          batch_size=4\n",
    "             )"
   ]
  },
  {
   "cell_type": "code",
   "execution_count": null,
   "metadata": {
    "colab": {
     "base_uri": "https://localhost:8080/"
    },
    "id": "coBZ8a6ZwwCb",
    "outputId": "05ad234d-2929-4e6c-9316-85f5d369c8c1"
   },
   "outputs": [],
   "source": [
    "prediction= model.predict({'emotion_input': emotion_input,\n",
    "             'violence_input': violence_input,\n",
    "             'hate_input': hate_input})"
   ]
  },
  {
   "cell_type": "code",
   "execution_count": null,
   "metadata": {
    "colab": {
     "base_uri": "https://localhost:8080/"
    },
    "id": "0MWRkbzywwF6",
    "outputId": "f4ee742b-590b-4e42-ddb9-9360ea6d8328"
   },
   "outputs": [],
   "source": [
    "prediction"
   ]
  },
  {
   "cell_type": "markdown",
   "metadata": {
    "id": "bXuq2m7S_UEm"
   },
   "source": []
  },
  {
   "cell_type": "markdown",
   "metadata": {
    "id": "aWfO9R9U_oW_"
   },
   "source": []
  },
  {
   "cell_type": "code",
   "execution_count": null,
   "metadata": {
    "id": "IH5I5qwK_UXH"
   },
   "outputs": [],
   "source": [
    "emotion_pred=np.argmax(prediction[0], axis=1)[0]\n",
    "violence_pred=np.argmax(prediction[1], axis=1)[0]\n",
    "hate_pred=np.argmax(prediction[2], axis=1)[0]"
   ]
  },
  {
   "cell_type": "code",
   "execution_count": null,
   "metadata": {
    "id": "2oGUAFnC_UZ6"
   },
   "outputs": [],
   "source": [
    "import seaborn as sns\n",
    "from sklearn.metrics import confusion_matrix\n",
    "import matplotlib.pyplot as plt"
   ]
  },
  {
   "cell_type": "code",
   "execution_count": null,
   "metadata": {
    "id": "oqFwDdhb_Uci"
   },
   "outputs": [],
   "source": [
    "def plot_cm(true, title, labels):\n",
    "  cf_matrix=confusion_matrix(true, pred, normalize='true')\n",
    "  plt.figure(figsize=(7,6))\n",
    "  sns.heatmap(cf_matrix, annot=True, cmap='Blues', xticklabels=labels, yticklabels=labels)\n",
    "  plt.title(title)\n",
    "  plt.xlabel('Predicted')\n",
    "  plt.ylabel('actual')\n",
    "\n",
    "emotion_labels_text=['sadness', 'joy', 'love', 'anger', 'fear', 'surprise']\n",
    "violence_labels_text=['sexual_violence', 'physical_violence', 'emotional_violence', 'Harmful_traditional_practice', 'economic_violence']\n",
    "hate_labels_text=['offensive speech', 'Neither', 'Hate Speech']\n"
   ]
  },
  {
   "cell_type": "code",
   "execution_count": null,
   "metadata": {
    "colab": {
     "base_uri": "https://localhost:8080/",
     "height": 315
    },
    "id": "xHsXCPxL3erx",
    "outputId": "dddc2a5d-e22b-4ff2-a3d2-a5476cf01e3e"
   },
   "outputs": [],
   "source": [
    "# plot_cm(emotion_labels, emotion_pred, 'Confusion Matrix for Emotion')\n",
    "# plot_cm(violence_labels, violence_pred, 'Confusion Matrix for Violence')\n",
    "# plot_cm(hate_labels, hate_pred, 'Confusion Matrix for Hate')"
   ]
  },
  {
   "cell_type": "code",
   "execution_count": null,
   "metadata": {
    "id": "-GIf1qmI3eur"
   },
   "outputs": [],
   "source": []
  },
  {
   "cell_type": "markdown",
   "metadata": {
    "id": "x-PDZs3MDu-K"
   },
   "source": [
    "//manual testing\n"
   ]
  },
  {
   "cell_type": "code",
   "execution_count": null,
   "metadata": {
    "id": "B30WeXJA3exj"
   },
   "outputs": [],
   "source": [
    "from os import remove\n",
    "def classify_text(input_text):\n",
    "  input_text_cleaned=remove_stopwords(input_text)\n",
    "  input_sequence=tokenizer.texts_to_sequences([input_text_cleaned])\n",
    "  input_padded=pad_sequences(input_sequence, maxlen=max_length, padding='post')\n",
    "\n",
    "  predictions=model.predict({'emotion_input': input_padded,\n",
    "                             'violence_input': input_padded,\n",
    "                             'hate_input': input_padded})\n",
    "\n",
    "  emotion_pred=np.argmax(predictions[0], axis=1)[0]\n",
    "  violence_pred=np.argmax(predictions[1], axis=1)[0]\n",
    "  hate_pred=np.argmax(predictions[2], axis=1)[0]\n",
    "\n",
    "  major_labels=['Emotion', 'Violence', 'Hate']\n",
    "  major_label_index= np.argmax([np.max(predictions[0]), np.max(predictions[1]), np.max(predictions[2])])\n",
    "  major_label=major_labels[major_label_index]\n",
    "\n",
    "  #datermining sublabels\n",
    "  emotion_labels_text=['sadness', 'joy', 'love', 'anger', 'fear', 'surprise']\n",
    "  violence_labels_text=['sexual_violence', 'physical_violence', 'emotional_violence', 'Harmful_traditional_practice', 'economic_violence']\n",
    "  hate_labels_text=['offensive speech', 'Neither', 'Hate Speech']\n",
    "\n",
    "  if major_label=='Emotion':\n",
    "    sub_label=emotion_labels_text[emotion_pred]\n",
    "  elif major_label=='Violence':\n",
    "    sub_label=violence_labels_text[violence_pred]\n",
    "  else:\n",
    "    sub_label= hate_labels_text[hate_pred]\n",
    "\n",
    "  return major_label, sub_label\n",
    "\n",
    "\n"
   ]
  },
  {
   "cell_type": "code",
   "execution_count": null,
   "metadata": {
    "id": "3wd984J73e0d"
   },
   "outputs": [],
   "source": [
    "import ipywidgets as widgets\n",
    "from IPython.display import display"
   ]
  },
  {
   "cell_type": "code",
   "execution_count": null,
   "metadata": {
    "id": "H6lLSMYE3e3U"
   },
   "outputs": [],
   "source": [
    "#define a text widget and a placeholder\n",
    "input_text_widget=widgets.Text(\n",
    "    description='Input text',\n",
    "    placeholder='Enter your text here'\n",
    ")"
   ]
  },
  {
   "cell_type": "code",
   "execution_count": null,
   "metadata": {
    "id": "R04HISQY3e6N"
   },
   "outputs": [],
   "source": [
    "button=widgets.Button(description='Classify')"
   ]
  },
  {
   "cell_type": "code",
   "execution_count": null,
   "metadata": {
    "id": "U1jexy-l3e89"
   },
   "outputs": [],
   "source": [
    "output=widgets.Output()\n"
   ]
  },
  {
   "cell_type": "code",
   "execution_count": null,
   "metadata": {
    "id": "1MNI-Ez53e_t"
   },
   "outputs": [],
   "source": [
    "def on_button_click(b):\n",
    "  with output:\n",
    "    output.clear_output()\n",
    "    input_text=input_text_widget.value\n",
    "    major_label, sub_label=classify_text(input_text)\n",
    "    print(f'Major Label: {major_label}')\n",
    "    print(f'Sub Label: {sub_label}')\n",
    "\n",
    "button.on_click(on_button_click)"
   ]
  },
  {
   "cell_type": "code",
   "execution_count": null,
   "metadata": {
    "colab": {
     "base_uri": "https://localhost:8080/",
     "height": 151,
     "referenced_widgets": [
      "0a8fd5f9c9ab483ab6c05910aa4d61e5",
      "57517120271b409381e736f889505de0",
      "18bffd7c48144ab7b901f2539e60c047",
      "5fcef66d857a4e97b306f78121258a28",
      "7d3ab75aa2cf467e8c105a25c4f00423",
      "2654ac3e7a024b89afd929328ceb9003",
      "3c24cc6ccf634e15b021dbc67e01bfc0",
      "23153071096b4395aaab4eb0403cdbe1"
     ]
    },
    "id": "qjzAgdDM3fCn",
    "outputId": "59acd076-ca43-4c14-a736-278f0fef6ef8"
   },
   "outputs": [],
   "source": [
    "display(input_text_widget, button, output)"
   ]
  },
  {
   "cell_type": "code",
   "execution_count": null,
   "metadata": {
    "colab": {
     "base_uri": "https://localhost:8080/",
     "height": 151,
     "referenced_widgets": [
      "0a8fd5f9c9ab483ab6c05910aa4d61e5",
      "57517120271b409381e736f889505de0",
      "18bffd7c48144ab7b901f2539e60c047",
      "5fcef66d857a4e97b306f78121258a28",
      "7d3ab75aa2cf467e8c105a25c4f00423",
      "2654ac3e7a024b89afd929328ceb9003",
      "3c24cc6ccf634e15b021dbc67e01bfc0",
      "23153071096b4395aaab4eb0403cdbe1"
     ]
    },
    "id": "zvcff41d3fFQ",
    "outputId": "1442be19-6f3c-47af-8f29-f657721dbfe1"
   },
   "outputs": [],
   "source": [
    "display(input_text_widget, button, output)"
   ]
  },
  {
   "cell_type": "code",
   "execution_count": null,
   "metadata": {
    "id": "YBqgTwSxEO9e"
   },
   "outputs": [],
   "source": []
  },
  {
   "cell_type": "code",
   "execution_count": null,
   "metadata": {
    "id": "Pj84_hbUEPAZ"
   },
   "outputs": [],
   "source": []
  },
  {
   "cell_type": "code",
   "execution_count": null,
   "metadata": {
    "id": "X0_BTwb-EPDt"
   },
   "outputs": [],
   "source": []
  }
 ],
 "metadata": {
  "colab": {
   "provenance": []
  },
  "kernelspec": {
   "display_name": "Python 3",
   "name": "python3"
  },
  "language_info": {
   "name": "python"
  }
 },
 "nbformat": 4,
 "nbformat_minor": 0
}
